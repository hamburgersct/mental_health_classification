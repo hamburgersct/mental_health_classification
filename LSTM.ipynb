{
 "cells": [
  {
   "cell_type": "code",
   "execution_count": 50,
   "metadata": {
    "collapsed": true
   },
   "outputs": [],
   "source": [
    "import pandas as pd\n",
    "from tensorflow import keras\n",
    "from sklearn.model_selection import train_test_split\n",
    "from tensorflow.keras.layers import Dropout, Dense,Input,Embedding,Flatten, Bidirectional\n",
    "from tensorflow.keras.models import Model\n",
    "import numpy as np\n",
    "from sklearn import metrics\n",
    "from tensorflow.keras.preprocessing.text import Tokenizer\n",
    "from tensorflow.keras.preprocessing.sequence import pad_sequences\n",
    "from tensorflow.keras.utils import to_categorical"
   ]
  },
  {
   "cell_type": "code",
   "execution_count": 51,
   "outputs": [],
   "source": [
    "from textaugment import EDA\n",
    "columns = ['学号', '性别', '生源地', '总分', '幻觉、妄想症状', '自杀意图', '焦虑指标总分', '抑郁指标总分', '偏执指标总分', '自卑指标总分',\n",
    "               '敏感指标总分', '社交恐惧指标总分', '躯体化指标总分', '依赖指标总分', '敌对攻击指标总分', '冲动指标总分', '强迫指标总分',\n",
    "               '网络成瘾指标总分', '自伤行为指标总分', '进食问题指标总分', '睡眠困扰指标总分', '学校适应困难指标总分', '人际关系困扰指标总分',\n",
    "               '学业压力指标总分', '就业压力指标总分', '恋爱困扰指标总分']\n",
    "data = pd.read_csv('student_data.csv', encoding='utf-8')\n",
    "data.drop(columns=columns, inplace=True)"
   ],
   "metadata": {
    "collapsed": false,
    "pycharm": {
     "name": "#%%\n"
    }
   }
  },
  {
   "cell_type": "code",
   "execution_count": 52,
   "outputs": [
    {
     "data": {
      "text/plain": "0    106\n1     72\nName: 可能问题, dtype: int64"
     },
     "execution_count": 52,
     "metadata": {},
     "output_type": "execute_result"
    }
   ],
   "source": [
    "data.loc[data['可能问题'] != 0, '可能问题'] = 1\n",
    "data['可能问题'].value_counts()"
   ],
   "metadata": {
    "collapsed": false,
    "pycharm": {
     "name": "#%%\n"
    }
   }
  },
  {
   "cell_type": "code",
   "execution_count": 53,
   "outputs": [],
   "source": [
    "train_df, test_df = train_test_split(data, test_size=0.2, random_state=8)"
   ],
   "metadata": {
    "collapsed": false,
    "pycharm": {
     "name": "#%%\n"
    }
   }
  },
  {
   "cell_type": "code",
   "execution_count": 54,
   "outputs": [],
   "source": [
    "# # augment training data\n",
    "# train_class_0 = train_df[train_df['可能问题']==0]\n",
    "# train_class_1 = train_df[train_df['可能问题']==1]\n",
    "# train_class_2 = train_df[train_df['可能问题']==2]\n",
    "# train_class_3 = train_df[train_df['可能问题']==3]\n",
    "#\n",
    "# t = EDA(random_state=8)\n",
    "# new_text_1 = [t.random_swap(t.random_insertion(t.random_deletion(t.synonym_replacement(sent), p=0.4))) for sent in train_class_1['text']]\n",
    "# new_text_2 = [t.random_swap(t.random_insertion(t.random_deletion(t.synonym_replacement(sent), p=0.4))) for sent in train_class_2['text']]\n",
    "# new_text_3 = [t.random_swap(t.random_insertion(t.random_deletion(t.synonym_replacement(sent), p=0.4))) for sent in train_class_3['text']]\n",
    "#\n",
    "# new_class_1 = train_class_1\n",
    "# new_class_1['text'] = new_text_1\n",
    "# train_1 = pd.concat([train_class_1, new_class_1])\n",
    "#\n",
    "# new_class_2 = train_class_2\n",
    "# new_class_2['text'] = new_text_2\n",
    "# train_2 = pd.concat([train_class_2, new_class_2])\n",
    "#\n",
    "# new_class_3 = train_class_3\n",
    "# new_class_3['text'] = new_text_3\n",
    "# train_3 = pd.concat([train_class_3, new_class_3])\n",
    "#\n",
    "# train = pd.concat([train_class_0, train_1, train_2, train_3])\n",
    "# train['可能问题'].value_counts()\n"
   ],
   "metadata": {
    "collapsed": false,
    "pycharm": {
     "name": "#%%\n"
    }
   }
  },
  {
   "cell_type": "code",
   "execution_count": 55,
   "outputs": [
    {
     "name": "stdout",
     "output_type": "stream",
     "text": [
      "train_metadata shape: (142, 22)\n",
      "test_metadata shape: (36, 22)\n"
     ]
    }
   ],
   "source": [
    "train_metadata = np.array(train_df.iloc[:, 0:-2])\n",
    "test_metadata = np.array(test_df.iloc[:, 0:-2])\n",
    "print('train_metadata shape:', train_metadata.shape)\n",
    "print('test_metadata shape:', test_metadata.shape)"
   ],
   "metadata": {
    "collapsed": false,
    "pycharm": {
     "name": "#%%\n"
    }
   }
  },
  {
   "cell_type": "code",
   "execution_count": 56,
   "outputs": [
    {
     "data": {
      "text/plain": "178"
     },
     "execution_count": 56,
     "metadata": {},
     "output_type": "execute_result"
    }
   ],
   "source": [
    "texts = np.array(pd.concat([train_df['text'], test_df['text']]))\n",
    "len(texts)"
   ],
   "metadata": {
    "collapsed": false,
    "pycharm": {
     "name": "#%%\n"
    }
   }
  },
  {
   "cell_type": "code",
   "execution_count": 57,
   "outputs": [
    {
     "name": "stderr",
     "output_type": "stream",
     "text": [
      "C:\\Users\\hamburger_sct\\Anaconda3\\envs\\nlp_env\\lib\\site-packages\\keras_preprocessing\\text.py:180: UserWarning: The `nb_words` argument in `Tokenizer` has been renamed `num_words`.\n",
      "  warnings.warn('The `nb_words` argument in `Tokenizer` '\n"
     ]
    },
    {
     "data": {
      "text/plain": "178"
     },
     "execution_count": 57,
     "metadata": {},
     "output_type": "execute_result"
    }
   ],
   "source": [
    "MAX_NB_WORDS = 5000\n",
    "tokenizer = Tokenizer(nb_words=MAX_NB_WORDS)\n",
    "tokenizer.fit_on_texts(texts)\n",
    "sequences = tokenizer.texts_to_sequences(texts)\n",
    "len(sequences)\n",
    "# sequences即将每个句子中的每个单词使用词典序表示的形式"
   ],
   "metadata": {
    "collapsed": false,
    "pycharm": {
     "name": "#%%\n"
    }
   }
  },
  {
   "cell_type": "code",
   "execution_count": 58,
   "outputs": [
    {
     "name": "stdout",
     "output_type": "stream",
     "text": [
      "Found 6375 unique tokens\n"
     ]
    }
   ],
   "source": [
    "word_index = tokenizer.word_index\n",
    "print('Found %s unique tokens' % len(word_index))"
   ],
   "metadata": {
    "collapsed": false,
    "pycharm": {
     "name": "#%%\n"
    }
   }
  },
  {
   "cell_type": "code",
   "execution_count": 59,
   "outputs": [],
   "source": [
    "MAX_SEQUENCE_LENGTH = 300\n",
    "data = pad_sequences(sequences, maxlen=MAX_SEQUENCE_LENGTH)\n"
   ],
   "metadata": {
    "collapsed": false,
    "pycharm": {
     "name": "#%%\n"
    }
   }
  },
  {
   "cell_type": "code",
   "execution_count": 60,
   "outputs": [],
   "source": [
    "labels = to_categorical(np.array(pd.concat([train_df['可能问题'], test_df['可能问题']])))"
   ],
   "metadata": {
    "collapsed": false,
    "pycharm": {
     "name": "#%%\n"
    }
   }
  },
  {
   "cell_type": "code",
   "execution_count": 61,
   "outputs": [
    {
     "name": "stdout",
     "output_type": "stream",
     "text": [
      "Shape of data tensor: (178, 300)\n",
      "Shape of label tensor: (178, 2)\n"
     ]
    }
   ],
   "source": [
    "print('Shape of data tensor:', data.shape)\n",
    "print('Shape of label tensor:', labels.shape)"
   ],
   "metadata": {
    "collapsed": false,
    "pycharm": {
     "name": "#%%\n"
    }
   }
  },
  {
   "cell_type": "code",
   "execution_count": 62,
   "outputs": [
    {
     "name": "stdout",
     "output_type": "stream",
     "text": [
      "number of sequences in X_train:  142\n",
      "number of sequences in X_test:  36\n",
      "142\n",
      "36\n"
     ]
    }
   ],
   "source": [
    "indices = np.arange(data.shape[0])\n",
    "data = data[indices]\n",
    "labels = labels[indices]\n",
    "\n",
    "X_train = data[:len(train_df)]\n",
    "X_test = data[len(train_df):]\n",
    "y_train = np.array(train_df['可能问题'])\n",
    "y_test = np.array(test_df['可能问题'])\n",
    "\n",
    "print('number of sequences in X_train: ', len(X_train))\n",
    "print('number of sequences in X_test: ', len(X_test))\n",
    "print(len(y_train))\n",
    "print(len(y_test))"
   ],
   "metadata": {
    "collapsed": false,
    "pycharm": {
     "name": "#%%\n"
    }
   }
  },
  {
   "cell_type": "code",
   "execution_count": 63,
   "outputs": [
    {
     "name": "stdout",
     "output_type": "stream",
     "text": [
      "Found 400000 word vectors.\n"
     ]
    }
   ],
   "source": [
    "# Preparing the Embedding Layer\n",
    "embedding_index = {}\n",
    "f = open('./glove.6B.100d.txt', encoding='utf-8')\n",
    "for line in f:\n",
    "    values = line.split()\n",
    "    word = values[0]\n",
    "    coefs = np.array(values[1:], dtype='float32')\n",
    "    embedding_index[word] = coefs\n",
    "f.close()\n",
    "\n",
    "print('Found %s word vectors.' % len(embedding_index))"
   ],
   "metadata": {
    "collapsed": false,
    "pycharm": {
     "name": "#%%\n"
    }
   }
  },
  {
   "cell_type": "code",
   "execution_count": 81,
   "outputs": [],
   "source": [
    "# embedding matrix\n",
    "EMBEDDING_DIM = 100\n",
    "embedding_matrix = np.zeros((len(word_index) + 1, EMBEDDING_DIM))\n",
    "for word, index in word_index.items():\n",
    "    embedding_vector = embedding_index.get(word)\n",
    "    if embedding_vector is not None:\n",
    "        # words not found in embedding index will be all-zeros.\n",
    "            if len(embedding_matrix[index]) != len(embedding_vector):\n",
    "                print(\"could not broadcast input array from shape\",str(len(embedding_matrix[index])),\n",
    "                                 \"into shape\",str(len(embedding_vector)),\" Please make sure your\"\n",
    "                                 \" EMBEDDING_DIM is equal to embedding_vector file ,GloVe,\")\n",
    "                exit(1)\n",
    "\n",
    "            embedding_matrix[index] = embedding_vector"
   ],
   "metadata": {
    "collapsed": false,
    "pycharm": {
     "name": "#%%\n"
    }
   }
  },
  {
   "cell_type": "code",
   "execution_count": 98,
   "outputs": [],
   "source": [
    "from tensorflow.keras.layers import Embedding\n",
    "embedding_layer = Embedding(len(word_index)+1,\n",
    "                            EMBEDDING_DIM,\n",
    "                            weights=[embedding_matrix],\n",
    "                            input_length=MAX_SEQUENCE_LENGTH,\n",
    "                            trainable=False)"
   ],
   "metadata": {
    "collapsed": false,
    "pycharm": {
     "name": "#%%\n"
    }
   }
  },
  {
   "cell_type": "code",
   "execution_count": 99,
   "outputs": [],
   "source": [
    "metadata_input = Input(shape=(train_metadata.shape[1],), dtype='float32')\n",
    "sequence_input = Input(shape=(MAX_SEQUENCE_LENGTH,), dtype='int32')\n",
    "embedded_sequences = embedding_layer(sequence_input)\n",
    "l_model = Dropout(0.5)(embedded_sequences)\n",
    "l_model = Bidirectional(keras.layers.LSTM(128, recurrent_dropout=0.2))(l_model)\n",
    "l_model = Dropout(0.5)(l_model)\n",
    "\n",
    "r_dense = keras.layers.Dense(256, activation='relu')(metadata_input)\n",
    "r_dense = keras.layers.Dropout(0.5)(r_dense)\n",
    "r_dense = keras.layers.Dense(128, activation='relu')(r_dense)\n",
    "# r_dense = keras.layers.Dropout(dropout)(r_dense)\n",
    "\n",
    "c_merge = keras.layers.Concatenate(axis=1)([l_model, r_dense])\n",
    "c_dense = keras.layers.Dense(1024, activation='relu')(c_merge)\n",
    "preds = keras.layers.Dense(4)(c_dense)\n",
    "preds = keras.layers.Activation('softmax')(preds)\n",
    "\n",
    "model = Model([sequence_input, metadata_input], preds)\n",
    "model.compile(loss='sparse_categorical_crossentropy',\n",
    "            optimizer='adam',\n",
    "            metrics=['accuracy'])"
   ],
   "metadata": {
    "collapsed": false,
    "pycharm": {
     "name": "#%%\n"
    }
   }
  },
  {
   "cell_type": "code",
   "execution_count": 100,
   "outputs": [
    {
     "data": {
      "image/png": "[encoded data removed]",
      "text/plain": "<IPython.core.display.Image object>"
     },
     "execution_count": 100,
     "metadata": {},
     "output_type": "execute_result"
    }
   ],
   "source": [
    "keras.utils.plot_model(model, \"LSTM_metadata_model.png\", show_shapes=True)"
   ],
   "metadata": {
    "collapsed": false,
    "pycharm": {
     "name": "#%%\n"
    }
   }
  },
  {
   "cell_type": "code",
   "execution_count": 101,
   "outputs": [
    {
     "name": "stdout",
     "output_type": "stream",
     "text": [
      "Train on 142 samples, validate on 36 samples\n",
      "Epoch 1/50\n",
      "142/142 - 20s - loss: 1.2459 - accuracy: 0.4507 - val_loss: 0.7521 - val_accuracy: 0.7222\n",
      "Epoch 2/50\n",
      "142/142 - 18s - loss: 0.6115 - accuracy: 0.8310 - val_loss: 0.5324 - val_accuracy: 0.8056\n",
      "Epoch 3/50\n",
      "142/142 - 16s - loss: 0.4029 - accuracy: 0.8521 - val_loss: 0.5054 - val_accuracy: 0.7778\n",
      "Epoch 4/50\n",
      "142/142 - 16s - loss: 0.3177 - accuracy: 0.8521 - val_loss: 0.5371 - val_accuracy: 0.7500\n",
      "Epoch 5/50\n",
      "142/142 - 16s - loss: 0.3009 - accuracy: 0.8451 - val_loss: 0.5819 - val_accuracy: 0.7222\n",
      "Epoch 6/50\n",
      "142/142 - 16s - loss: 0.2678 - accuracy: 0.8662 - val_loss: 0.6665 - val_accuracy: 0.6667\n",
      "Epoch 7/50\n",
      "142/142 - 16s - loss: 0.2862 - accuracy: 0.8803 - val_loss: 0.6328 - val_accuracy: 0.6667\n",
      "Epoch 8/50\n",
      "142/142 - 16s - loss: 0.1727 - accuracy: 0.9085 - val_loss: 0.6348 - val_accuracy: 0.6944\n",
      "Epoch 9/50\n",
      "142/142 - 16s - loss: 0.2417 - accuracy: 0.8873 - val_loss: 0.6205 - val_accuracy: 0.6944\n",
      "Epoch 10/50\n",
      "142/142 - 16s - loss: 0.1877 - accuracy: 0.9155 - val_loss: 0.6127 - val_accuracy: 0.6944\n",
      "Epoch 11/50\n",
      "142/142 - 16s - loss: 0.1636 - accuracy: 0.9014 - val_loss: 0.5864 - val_accuracy: 0.6944\n",
      "Epoch 12/50\n",
      "142/142 - 16s - loss: 0.1554 - accuracy: 0.9437 - val_loss: 0.5761 - val_accuracy: 0.7222\n",
      "Epoch 13/50\n",
      "142/142 - 16s - loss: 0.1700 - accuracy: 0.9437 - val_loss: 0.5521 - val_accuracy: 0.7778\n",
      "Epoch 14/50\n",
      "142/142 - 16s - loss: 0.1327 - accuracy: 0.9437 - val_loss: 0.5574 - val_accuracy: 0.7500\n",
      "Epoch 15/50\n",
      "142/142 - 16s - loss: 0.1290 - accuracy: 0.9648 - val_loss: 0.5875 - val_accuracy: 0.7500\n",
      "Epoch 16/50\n",
      "142/142 - 16s - loss: 0.1131 - accuracy: 0.9718 - val_loss: 0.6287 - val_accuracy: 0.6944\n",
      "Epoch 17/50\n",
      "142/142 - 16s - loss: 0.0810 - accuracy: 0.9789 - val_loss: 0.6933 - val_accuracy: 0.6667\n",
      "Epoch 18/50\n",
      "142/142 - 16s - loss: 0.1017 - accuracy: 0.9437 - val_loss: 0.7211 - val_accuracy: 0.7222\n",
      "Epoch 19/50\n",
      "142/142 - 16s - loss: 0.0677 - accuracy: 0.9718 - val_loss: 0.7738 - val_accuracy: 0.7222\n",
      "Epoch 20/50\n",
      "142/142 - 17s - loss: 0.0728 - accuracy: 0.9718 - val_loss: 0.7814 - val_accuracy: 0.7222\n",
      "Epoch 21/50\n",
      "142/142 - 16s - loss: 0.0540 - accuracy: 0.9859 - val_loss: 0.9009 - val_accuracy: 0.7500\n",
      "Epoch 22/50\n",
      "142/142 - 16s - loss: 0.0720 - accuracy: 0.9648 - val_loss: 0.8172 - val_accuracy: 0.7222\n",
      "Epoch 23/50\n",
      "142/142 - 16s - loss: 0.0411 - accuracy: 0.9930 - val_loss: 0.8564 - val_accuracy: 0.7222\n",
      "Epoch 24/50\n",
      "142/142 - 16s - loss: 0.0551 - accuracy: 0.9718 - val_loss: 0.8643 - val_accuracy: 0.7222\n",
      "Epoch 25/50\n",
      "142/142 - 16s - loss: 0.0258 - accuracy: 1.0000 - val_loss: 0.8766 - val_accuracy: 0.7778\n",
      "Epoch 26/50\n",
      "142/142 - 16s - loss: 0.0289 - accuracy: 1.0000 - val_loss: 0.9291 - val_accuracy: 0.7500\n",
      "Epoch 27/50\n",
      "142/142 - 16s - loss: 0.0315 - accuracy: 0.9930 - val_loss: 0.9272 - val_accuracy: 0.7778\n",
      "Epoch 28/50\n",
      "142/142 - 16s - loss: 0.0331 - accuracy: 0.9930 - val_loss: 0.9466 - val_accuracy: 0.7222\n",
      "Epoch 29/50\n",
      "142/142 - 16s - loss: 0.0444 - accuracy: 0.9789 - val_loss: 0.9941 - val_accuracy: 0.7222\n",
      "Epoch 30/50\n",
      "142/142 - 16s - loss: 0.0460 - accuracy: 0.9718 - val_loss: 1.0672 - val_accuracy: 0.7500\n",
      "Epoch 31/50\n",
      "142/142 - 16s - loss: 0.0386 - accuracy: 0.9789 - val_loss: 1.0981 - val_accuracy: 0.7778\n",
      "Epoch 32/50\n",
      "142/142 - 16s - loss: 0.0218 - accuracy: 0.9859 - val_loss: 1.1236 - val_accuracy: 0.6944\n",
      "Epoch 33/50\n",
      "142/142 - 16s - loss: 0.0242 - accuracy: 0.9930 - val_loss: 1.2058 - val_accuracy: 0.6944\n",
      "Epoch 34/50\n",
      "142/142 - 16s - loss: 0.0204 - accuracy: 0.9930 - val_loss: 1.1683 - val_accuracy: 0.6944\n",
      "Epoch 35/50\n",
      "142/142 - 16s - loss: 0.0219 - accuracy: 0.9930 - val_loss: 1.1698 - val_accuracy: 0.7778\n",
      "Epoch 36/50\n",
      "142/142 - 16s - loss: 0.0129 - accuracy: 1.0000 - val_loss: 1.2463 - val_accuracy: 0.7500\n",
      "Epoch 37/50\n",
      "142/142 - 16s - loss: 0.0157 - accuracy: 1.0000 - val_loss: 1.2514 - val_accuracy: 0.7778\n",
      "Epoch 38/50\n",
      "142/142 - 16s - loss: 0.0144 - accuracy: 1.0000 - val_loss: 1.2156 - val_accuracy: 0.8056\n",
      "Epoch 39/50\n",
      "142/142 - 16s - loss: 0.0217 - accuracy: 0.9930 - val_loss: 1.3326 - val_accuracy: 0.6667\n",
      "Epoch 40/50\n",
      "142/142 - 16s - loss: 0.0297 - accuracy: 0.9930 - val_loss: 1.4214 - val_accuracy: 0.6389\n",
      "Epoch 41/50\n",
      "142/142 - 17s - loss: 0.0184 - accuracy: 1.0000 - val_loss: 1.3765 - val_accuracy: 0.6667\n",
      "Epoch 42/50\n",
      "142/142 - 16s - loss: 0.0114 - accuracy: 1.0000 - val_loss: 1.3310 - val_accuracy: 0.8056\n",
      "Epoch 43/50\n",
      "142/142 - 16s - loss: 0.0046 - accuracy: 1.0000 - val_loss: 1.3996 - val_accuracy: 0.7778\n",
      "Epoch 44/50\n",
      "142/142 - 16s - loss: 0.0042 - accuracy: 1.0000 - val_loss: 1.5360 - val_accuracy: 0.7778\n",
      "Epoch 45/50\n",
      "142/142 - 16s - loss: 0.0340 - accuracy: 0.9859 - val_loss: 1.4646 - val_accuracy: 0.8056\n",
      "Epoch 46/50\n",
      "142/142 - 16s - loss: 0.0448 - accuracy: 0.9859 - val_loss: 1.4142 - val_accuracy: 0.8056\n",
      "Epoch 47/50\n",
      "142/142 - 16s - loss: 0.0247 - accuracy: 0.9859 - val_loss: 1.4496 - val_accuracy: 0.7222\n",
      "Epoch 48/50\n",
      "142/142 - 16s - loss: 0.0112 - accuracy: 1.0000 - val_loss: 1.4471 - val_accuracy: 0.7778\n",
      "Epoch 49/50\n",
      "142/142 - 16s - loss: 0.0030 - accuracy: 1.0000 - val_loss: 1.4629 - val_accuracy: 0.8056\n",
      "Epoch 50/50\n",
      "142/142 - 16s - loss: 0.0196 - accuracy: 0.9930 - val_loss: 1.4680 - val_accuracy: 0.8056\n",
      "              precision    recall  f1-score   support\n",
      "\n",
      "           0       0.83      0.86      0.84        22\n",
      "           1       0.77      0.71      0.74        14\n",
      "\n",
      "    accuracy                           0.81        36\n",
      "   macro avg       0.80      0.79      0.79        36\n",
      "weighted avg       0.80      0.81      0.80        36\n",
      "\n",
      "[[19  3]\n",
      " [ 4 10]]\n",
      "precision:  0.7976588628762542\n",
      "accuracy:  0.8055555555555556\n",
      "F1 score:  0.7925925925925926\n",
      "recall:  0.788961038961039\n"
     ]
    }
   ],
   "source": [
    "model.fit([X_train, train_metadata], y_train,\n",
    "          validation_data=([X_test, test_metadata], y_test),\n",
    "          epochs=50,\n",
    "          batch_size=100,\n",
    "          verbose=2)\n",
    "predicted = model.predict([X_test, test_metadata])\n",
    "predicted = np.argmax(predicted, axis=1)\n",
    "\n",
    "print(metrics.classification_report(y_test, predicted))\n",
    "print(metrics.confusion_matrix(y_test, predicted))\n",
    "print(\"precision: \", str(metrics.precision_score(y_test, predicted, average='macro')))\n",
    "print(\"accuracy: \", str(metrics.accuracy_score(y_test, predicted)))\n",
    "print(\"F1 score: \", str(metrics.f1_score(y_test, predicted, average='macro')))\n",
    "print(\"recall: \", str(metrics.recall_score(y_test, predicted, average='macro')))"
   ],
   "metadata": {
    "collapsed": false,
    "pycharm": {
     "name": "#%%\n"
    }
   }
  },
  {
   "cell_type": "code",
   "execution_count": 68,
   "outputs": [],
   "source": [],
   "metadata": {
    "collapsed": false,
    "pycharm": {
     "name": "#%%\n"
    }
   }
  }
 ],
 "metadata": {
  "kernelspec": {
   "display_name": "Python 3",
   "language": "python",
   "name": "python3"
  },
  "language_info": {
   "codemirror_mode": {
    "name": "ipython",
    "version": 2
   },
   "file_extension": ".py",
   "mimetype": "text/x-python",
   "name": "python",
   "nbconvert_exporter": "python",
   "pygments_lexer": "ipython2",
   "version": "2.7.6"
  }
 },
 "nbformat": 4,
 "nbformat_minor": 0
}