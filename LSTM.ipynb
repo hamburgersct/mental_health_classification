{
 "cells": [
  {
   "cell_type": "code",
   "execution_count": 59,
   "metadata": {
    "collapsed": true
   },
   "outputs": [],
   "source": [
    "import pandas as pd\n",
    "from tensorflow import keras\n",
    "from sklearn.model_selection import train_test_split\n",
    "from tensorflow.keras.layers import Dropout, Dense,Input,Embedding,Flatten, Bidirectional\n",
    "from tensorflow.keras.models import Model\n",
    "import numpy as np\n",
    "from sklearn import metrics\n",
    "from tensorflow.keras.preprocessing.text import Tokenizer\n",
    "from tensorflow.keras.preprocessing.sequence import pad_sequences\n",
    "from tensorflow.keras.utils import to_categorical"
   ]
  },
  {
   "cell_type": "code",
   "execution_count": 60,
   "outputs": [],
   "source": [
    "from textaugment import EDA\n",
    "columns = ['学号', '性别', '生源地', '总分', '幻觉、妄想症状', '自杀意图', '焦虑指标总分', '抑郁指标总分', '偏执指标总分', '自卑指标总分',\n",
    "               '敏感指标总分', '社交恐惧指标总分', '躯体化指标总分', '依赖指标总分', '敌对攻击指标总分', '冲动指标总分', '强迫指标总分',\n",
    "               '网络成瘾指标总分', '自伤行为指标总分', '进食问题指标总分', '睡眠困扰指标总分', '学校适应困难指标总分', '人际关系困扰指标总分',\n",
    "               '学业压力指标总分', '就业压力指标总分', '恋爱困扰指标总分']\n",
    "data = pd.read_csv('student_data.csv', encoding='utf-8')\n",
    "data.drop(columns=columns, inplace=True)\n",
    "train_df, test_df = train_test_split(data, test_size=0.2, random_state=8)"
   ],
   "metadata": {
    "collapsed": false,
    "pycharm": {
     "name": "#%%\n"
    }
   }
  },
  {
   "cell_type": "code",
   "execution_count": 61,
   "outputs": [
    {
     "name": "stderr",
     "output_type": "stream",
     "text": [
      "C:\\Users\\hamburger_sct\\Anaconda3\\envs\\nlp_env\\lib\\site-packages\\ipykernel_launcher.py:13: SettingWithCopyWarning: \n",
      "A value is trying to be set on a copy of a slice from a DataFrame.\n",
      "Try using .loc[row_indexer,col_indexer] = value instead\n",
      "\n",
      "See the caveats in the documentation: https://pandas.pydata.org/pandas-docs/stable/user_guide/indexing.html#returning-a-view-versus-a-copy\n",
      "  del sys.path[0]\n",
      "C:\\Users\\hamburger_sct\\Anaconda3\\envs\\nlp_env\\lib\\site-packages\\ipykernel_launcher.py:17: SettingWithCopyWarning: \n",
      "A value is trying to be set on a copy of a slice from a DataFrame.\n",
      "Try using .loc[row_indexer,col_indexer] = value instead\n",
      "\n",
      "See the caveats in the documentation: https://pandas.pydata.org/pandas-docs/stable/user_guide/indexing.html#returning-a-view-versus-a-copy\n",
      "C:\\Users\\hamburger_sct\\Anaconda3\\envs\\nlp_env\\lib\\site-packages\\ipykernel_launcher.py:21: SettingWithCopyWarning: \n",
      "A value is trying to be set on a copy of a slice from a DataFrame.\n",
      "Try using .loc[row_indexer,col_indexer] = value instead\n",
      "\n",
      "See the caveats in the documentation: https://pandas.pydata.org/pandas-docs/stable/user_guide/indexing.html#returning-a-view-versus-a-copy\n"
     ]
    },
    {
     "data": {
      "text/plain": "0    84\n1    62\n2    28\n3    26\nName: 可能问题, dtype: int64"
     },
     "execution_count": 61,
     "metadata": {},
     "output_type": "execute_result"
    }
   ],
   "source": [
    "# augment training data\n",
    "train_class_0 = train_df[train_df['可能问题']==0]\n",
    "train_class_1 = train_df[train_df['可能问题']==1]\n",
    "train_class_2 = train_df[train_df['可能问题']==2]\n",
    "train_class_3 = train_df[train_df['可能问题']==3]\n",
    "\n",
    "t = EDA(random_state=8)\n",
    "new_text_1 = [t.random_swap(t.random_insertion(t.random_deletion(t.synonym_replacement(sent), p=0.4))) for sent in train_class_1['text']]\n",
    "new_text_2 = [t.random_swap(t.random_insertion(t.random_deletion(t.synonym_replacement(sent), p=0.4))) for sent in train_class_2['text']]\n",
    "new_text_3 = [t.random_swap(t.random_insertion(t.random_deletion(t.synonym_replacement(sent), p=0.4))) for sent in train_class_3['text']]\n",
    "\n",
    "new_class_1 = train_class_1\n",
    "new_class_1['text'] = new_text_1\n",
    "train_1 = pd.concat([train_class_1, new_class_1])\n",
    "\n",
    "new_class_2 = train_class_2\n",
    "new_class_2['text'] = new_text_2\n",
    "train_2 = pd.concat([train_class_2, new_class_2])\n",
    "\n",
    "new_class_3 = train_class_3\n",
    "new_class_3['text'] = new_text_3\n",
    "train_3 = pd.concat([train_class_3, new_class_3])\n",
    "\n",
    "train = pd.concat([train_class_0, train_1, train_2, train_3])\n",
    "train['可能问题'].value_counts()"
   ],
   "metadata": {
    "collapsed": false,
    "pycharm": {
     "name": "#%%\n"
    }
   }
  },
  {
   "cell_type": "code",
   "execution_count": 62,
   "outputs": [
    {
     "name": "stdout",
     "output_type": "stream",
     "text": [
      "train_metadata shape: (200, 22)\n",
      "test_metadata shape: (36, 22)\n"
     ]
    }
   ],
   "source": [
    "train_metadata = np.array(train.iloc[:, 0:-2])\n",
    "test_metadata = np.array(test_df.iloc[:, 0:-2])\n",
    "print('train_metadata shape:', train_metadata.shape)\n",
    "print('test_metadata shape:', test_metadata.shape)"
   ],
   "metadata": {
    "collapsed": false,
    "pycharm": {
     "name": "#%%\n"
    }
   }
  },
  {
   "cell_type": "code",
   "execution_count": 63,
   "outputs": [
    {
     "data": {
      "text/plain": "236"
     },
     "execution_count": 63,
     "metadata": {},
     "output_type": "execute_result"
    }
   ],
   "source": [
    "texts = np.array(pd.concat([train['text'], test_df['text']]))\n",
    "len(texts)"
   ],
   "metadata": {
    "collapsed": false,
    "pycharm": {
     "name": "#%%\n"
    }
   }
  },
  {
   "cell_type": "code",
   "execution_count": 64,
   "outputs": [
    {
     "name": "stderr",
     "output_type": "stream",
     "text": [
      "C:\\Users\\hamburger_sct\\Anaconda3\\envs\\nlp_env\\lib\\site-packages\\keras_preprocessing\\text.py:180: UserWarning: The `nb_words` argument in `Tokenizer` has been renamed `num_words`.\n",
      "  warnings.warn('The `nb_words` argument in `Tokenizer` '\n"
     ]
    },
    {
     "data": {
      "text/plain": "236"
     },
     "execution_count": 64,
     "metadata": {},
     "output_type": "execute_result"
    }
   ],
   "source": [
    "MAX_NB_WORDS = 5000\n",
    "tokenizer = Tokenizer(nb_words=MAX_NB_WORDS)\n",
    "tokenizer.fit_on_texts(texts)\n",
    "sequences = tokenizer.texts_to_sequences(texts)\n",
    "len(sequences)\n",
    "# sequences即将每个句子中的每个单词使用词典序表示的形式"
   ],
   "metadata": {
    "collapsed": false,
    "pycharm": {
     "name": "#%%\n"
    }
   }
  },
  {
   "cell_type": "code",
   "execution_count": 65,
   "outputs": [
    {
     "name": "stdout",
     "output_type": "stream",
     "text": [
      "Found 6020 unique tokens\n"
     ]
    }
   ],
   "source": [
    "word_index = tokenizer.word_index\n",
    "print('Found %s unique tokens' % len(word_index))"
   ],
   "metadata": {
    "collapsed": false,
    "pycharm": {
     "name": "#%%\n"
    }
   }
  },
  {
   "cell_type": "code",
   "execution_count": 66,
   "outputs": [],
   "source": [
    "MAX_SEQUENCE_LENGTH = 300\n",
    "data = pad_sequences(sequences, maxlen=MAX_SEQUENCE_LENGTH)\n"
   ],
   "metadata": {
    "collapsed": false,
    "pycharm": {
     "name": "#%%\n"
    }
   }
  },
  {
   "cell_type": "code",
   "execution_count": 67,
   "outputs": [],
   "source": [
    "labels = to_categorical(np.array(pd.concat([train['可能问题'], test_df['可能问题']])))"
   ],
   "metadata": {
    "collapsed": false,
    "pycharm": {
     "name": "#%%\n"
    }
   }
  },
  {
   "cell_type": "code",
   "execution_count": 68,
   "outputs": [
    {
     "name": "stdout",
     "output_type": "stream",
     "text": [
      "Shape of data tensor: (236, 300)\n",
      "Shape of label tensor: (236, 4)\n"
     ]
    }
   ],
   "source": [
    "print('Shape of data tensor:', data.shape)\n",
    "print('Shape of label tensor:', labels.shape)"
   ],
   "metadata": {
    "collapsed": false,
    "pycharm": {
     "name": "#%%\n"
    }
   }
  },
  {
   "cell_type": "code",
   "execution_count": 69,
   "outputs": [
    {
     "name": "stdout",
     "output_type": "stream",
     "text": [
      "number of sequences in X_train:  200\n",
      "number of sequences in X_test:  36\n",
      "200\n",
      "36\n"
     ]
    }
   ],
   "source": [
    "indices = np.arange(data.shape[0])\n",
    "data = data[indices]\n",
    "labels = labels[indices]\n",
    "\n",
    "X_train = data[:len(train)]\n",
    "X_test = data[len(train):]\n",
    "y_train = np.array(train['可能问题'])\n",
    "y_test = np.array(test_df['可能问题'])\n",
    "\n",
    "print('number of sequences in X_train: ', len(X_train))\n",
    "print('number of sequences in X_test: ', len(X_test))\n",
    "print(len(y_train))\n",
    "print(len(y_test))"
   ],
   "metadata": {
    "collapsed": false,
    "pycharm": {
     "name": "#%%\n"
    }
   }
  },
  {
   "cell_type": "code",
   "execution_count": 70,
   "outputs": [
    {
     "name": "stdout",
     "output_type": "stream",
     "text": [
      "Found 400000 word vectors.\n"
     ]
    }
   ],
   "source": [
    "# Preparing the Embedding Layer\n",
    "embedding_index = {}\n",
    "f = open('./glove.6B.100d.txt', encoding='utf-8')\n",
    "for line in f:\n",
    "    values = line.split()\n",
    "    word = values[0]\n",
    "    coefs = np.array(values[1:], dtype='float32')\n",
    "    embedding_index[word] = coefs\n",
    "f.close()\n",
    "\n",
    "print('Found %s word vectors.' % len(embedding_index))"
   ],
   "metadata": {
    "collapsed": false,
    "pycharm": {
     "name": "#%%\n"
    }
   }
  },
  {
   "cell_type": "code",
   "execution_count": 71,
   "outputs": [],
   "source": [
    "# embedding matrix\n",
    "EMBEDDING_DIM = 100\n",
    "embedding_matrix = np.zeros((len(word_index) + 1, EMBEDDING_DIM))\n",
    "for word, index in word_index.items():\n",
    "    embedding_vector = embedding_index.get(word)\n",
    "    if embedding_vector is not None:\n",
    "        # words not found in embedding index will be all-zeros.\n",
    "            if len(embedding_matrix[index]) != len(embedding_vector):\n",
    "                print(\"could not broadcast input array from shape\",str(len(embedding_matrix[index])),\n",
    "                                 \"into shape\",str(len(embedding_vector)),\" Please make sure your\"\n",
    "                                 \" EMBEDDING_DIM is equal to embedding_vector file ,GloVe,\")\n",
    "                exit(1)\n",
    "\n",
    "            embedding_matrix[index] = embedding_vector"
   ],
   "metadata": {
    "collapsed": false,
    "pycharm": {
     "name": "#%%\n"
    }
   }
  },
  {
   "cell_type": "code",
   "execution_count": 72,
   "outputs": [],
   "source": [
    "from tensorflow.keras.layers import Embedding\n",
    "embedding_layer = Embedding(len(word_index)+1,\n",
    "                            EMBEDDING_DIM,\n",
    "                            weights=[embedding_matrix],\n",
    "                            input_length=MAX_SEQUENCE_LENGTH,\n",
    "                            trainable=False)"
   ],
   "metadata": {
    "collapsed": false,
    "pycharm": {
     "name": "#%%\n"
    }
   }
  },
  {
   "cell_type": "code",
   "execution_count": 73,
   "outputs": [],
   "source": [
    "metadata_input = Input(shape=(train_metadata.shape[1],), dtype='float32')\n",
    "sequence_input = Input(shape=(MAX_SEQUENCE_LENGTH,), dtype='int32')\n",
    "embedded_sequences = embedding_layer(sequence_input)\n",
    "l_model = Dropout(0.5)(embedded_sequences)\n",
    "l_model = Bidirectional(keras.layers.LSTM(128, recurrent_dropout=0.2))(l_model)\n",
    "l_model = Dropout(0.5)(l_model)\n",
    "\n",
    "r_dense = keras.layers.Dense(256, activation='relu')(metadata_input)\n",
    "r_dense = keras.layers.Dropout(0.5)(r_dense)\n",
    "r_dense = keras.layers.Dense(128, activation='relu')(r_dense)\n",
    "# r_dense = keras.layers.Dropout(dropout)(r_dense)\n",
    "\n",
    "c_merge = keras.layers.Concatenate(axis=1)([l_model, r_dense])\n",
    "c_dense = keras.layers.Dense(1024, activation='relu')(c_merge)\n",
    "preds = keras.layers.Dense(4)(c_dense)\n",
    "preds = keras.layers.Activation('softmax')(preds)\n",
    "\n",
    "model = Model([sequence_input, metadata_input], preds)\n",
    "model.compile(loss='sparse_categorical_crossentropy',\n",
    "            optimizer='adam',\n",
    "            metrics=['accuracy'])"
   ],
   "metadata": {
    "collapsed": false,
    "pycharm": {
     "name": "#%%\n"
    }
   }
  },
  {
   "cell_type": "code",
   "execution_count": 74,
   "outputs": [
    {
     "data": {
      "image/png": "[encoded data removed]",
      "text/plain": "<IPython.core.display.Image object>"
     },
     "execution_count": 74,
     "metadata": {},
     "output_type": "execute_result"
    }
   ],
   "source": [
    "keras.utils.plot_model(model, \"LSTM_metadata_model.png\", show_shapes=True)"
   ],
   "metadata": {
    "collapsed": false,
    "pycharm": {
     "name": "#%%\n"
    }
   }
  },
  {
   "cell_type": "code",
   "execution_count": 75,
   "outputs": [
    {
     "name": "stdout",
     "output_type": "stream",
     "text": [
      "Train on 200 samples, validate on 36 samples\n",
      "Epoch 1/20\n",
      "200/200 - 17s - loss: 1.3368 - accuracy: 0.3900 - val_loss: 0.8580 - val_accuracy: 0.6667\n",
      "Epoch 2/20\n",
      "200/200 - 14s - loss: 1.1092 - accuracy: 0.5600 - val_loss: 0.7647 - val_accuracy: 0.6667\n",
      "Epoch 3/20\n",
      "200/200 - 15s - loss: 0.9568 - accuracy: 0.5950 - val_loss: 0.7920 - val_accuracy: 0.7222\n",
      "Epoch 4/20\n",
      "200/200 - 15s - loss: 0.8401 - accuracy: 0.6850 - val_loss: 0.8467 - val_accuracy: 0.6389\n",
      "Epoch 5/20\n",
      "200/200 - 15s - loss: 0.7669 - accuracy: 0.6750 - val_loss: 0.8330 - val_accuracy: 0.6944\n",
      "Epoch 6/20\n",
      "200/200 - 15s - loss: 0.6947 - accuracy: 0.7300 - val_loss: 0.8014 - val_accuracy: 0.6944\n",
      "Epoch 7/20\n",
      "200/200 - 14s - loss: 0.6384 - accuracy: 0.7450 - val_loss: 0.8034 - val_accuracy: 0.7222\n",
      "Epoch 8/20\n",
      "200/200 - 15s - loss: 0.5676 - accuracy: 0.7800 - val_loss: 0.8306 - val_accuracy: 0.6667\n",
      "Epoch 9/20\n",
      "200/200 - 15s - loss: 0.4838 - accuracy: 0.8150 - val_loss: 0.8209 - val_accuracy: 0.7222\n",
      "Epoch 10/20\n",
      "200/200 - 15s - loss: 0.4679 - accuracy: 0.8150 - val_loss: 0.8532 - val_accuracy: 0.6944\n",
      "Epoch 11/20\n",
      "200/200 - 16s - loss: 0.4144 - accuracy: 0.8450 - val_loss: 0.8831 - val_accuracy: 0.6944\n",
      "Epoch 12/20\n",
      "200/200 - 15s - loss: 0.4218 - accuracy: 0.8200 - val_loss: 0.8574 - val_accuracy: 0.6944\n",
      "Epoch 13/20\n",
      "200/200 - 15s - loss: 0.3854 - accuracy: 0.8450 - val_loss: 1.0245 - val_accuracy: 0.6944\n",
      "Epoch 14/20\n",
      "200/200 - 15s - loss: 0.3334 - accuracy: 0.8800 - val_loss: 0.9381 - val_accuracy: 0.7222\n",
      "Epoch 15/20\n",
      "200/200 - 15s - loss: 0.3134 - accuracy: 0.8750 - val_loss: 0.8733 - val_accuracy: 0.6944\n",
      "Epoch 16/20\n",
      "200/200 - 15s - loss: 0.2395 - accuracy: 0.9150 - val_loss: 0.7365 - val_accuracy: 0.7500\n",
      "Epoch 17/20\n",
      "200/200 - 15s - loss: 0.2525 - accuracy: 0.9200 - val_loss: 0.8373 - val_accuracy: 0.7222\n",
      "Epoch 18/20\n",
      "200/200 - 15s - loss: 0.2172 - accuracy: 0.9300 - val_loss: 0.9214 - val_accuracy: 0.7222\n",
      "Epoch 19/20\n",
      "200/200 - 16s - loss: 0.1747 - accuracy: 0.9600 - val_loss: 0.9585 - val_accuracy: 0.7222\n",
      "Epoch 20/20\n",
      "200/200 - 15s - loss: 0.1544 - accuracy: 0.9600 - val_loss: 1.0522 - val_accuracy: 0.7222\n",
      "              precision    recall  f1-score   support\n",
      "\n",
      "           0       0.77      0.91      0.83        22\n",
      "           1       0.71      0.38      0.50        13\n",
      "           2       0.33      1.00      0.50         1\n",
      "\n",
      "    accuracy                           0.72        36\n",
      "   macro avg       0.61      0.76      0.61        36\n",
      "weighted avg       0.74      0.72      0.70        36\n",
      "\n",
      "[[20  2  0]\n",
      " [ 6  5  2]\n",
      " [ 0  0  1]]\n",
      "precision:  0.6056166056166056\n",
      "accuracy:  0.7222222222222222\n",
      "F1 score:  0.611111111111111\n",
      "recall:  0.7645687645687645\n"
     ]
    }
   ],
   "source": [
    "model.fit([X_train, train_metadata], y_train,\n",
    "          validation_data=([X_test, test_metadata], y_test),\n",
    "          epochs=20,\n",
    "          batch_size=100,\n",
    "          verbose=2)\n",
    "predicted = model.predict([X_test, test_metadata])\n",
    "predicted = np.argmax(predicted, axis=1)\n",
    "\n",
    "print(metrics.classification_report(y_test, predicted))\n",
    "print(metrics.confusion_matrix(y_test, predicted))\n",
    "print(\"precision: \", str(metrics.precision_score(y_test, predicted, average='macro')))\n",
    "print(\"accuracy: \", str(metrics.accuracy_score(y_test, predicted)))\n",
    "print(\"F1 score: \", str(metrics.f1_score(y_test, predicted, average='macro')))\n",
    "print(\"recall: \", str(metrics.recall_score(y_test, predicted, average='macro')))"
   ],
   "metadata": {
    "collapsed": false,
    "pycharm": {
     "name": "#%%\n"
    }
   }
  },
  {
   "cell_type": "code",
   "execution_count": 75,
   "outputs": [],
   "source": [],
   "metadata": {
    "collapsed": false,
    "pycharm": {
     "name": "#%%\n"
    }
   }
  }
 ],
 "metadata": {
  "kernelspec": {
   "display_name": "Python 3",
   "language": "python",
   "name": "python3"
  },
  "language_info": {
   "codemirror_mode": {
    "name": "ipython",
    "version": 2
   },
   "file_extension": ".py",
   "mimetype": "text/x-python",
   "name": "python",
   "nbconvert_exporter": "python",
   "pygments_lexer": "ipython2",
   "version": "2.7.6"
  }
 },
 "nbformat": 4,
 "nbformat_minor": 0
}