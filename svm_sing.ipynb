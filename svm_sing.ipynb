{
 "cells": [
  {
   "cell_type": "code",
   "execution_count": 7,
   "metadata": {
    "collapsed": true
   },
   "outputs": [],
   "source": [
    "import pandas as pd\n",
    "import numpy as np\n",
    "from sklearn.linear_model import SGDClassifier\n",
    "from sklearn.pipeline import Pipeline, FeatureUnion\n",
    "from sklearn import metrics\n",
    "from sklearn.feature_extraction.text import CountVectorizer, TfidfTransformer, TfidfVectorizer\n",
    "from sklearn.model_selection import GridSearchCV, StratifiedKFold, train_test_split\n"
   ]
  },
  {
   "cell_type": "code",
   "execution_count": 8,
   "outputs": [],
   "source": [
    "from sklearn.preprocessing import FunctionTransformer\n",
    "columns = ['学号', '性别', '生源地', '总分', '幻觉、妄想症状', '自杀意图', '焦虑指标总分', '抑郁指标总分', '偏执指标总分', '自卑指标总分',\n",
    "               '敏感指标总分', '社交恐惧指标总分', '躯体化指标总分', '依赖指标总分', '敌对攻击指标总分', '冲动指标总分', '强迫指标总分',\n",
    "               '网络成瘾指标总分', '自伤行为指标总分', '进食问题指标总分', '睡眠困扰指标总分', '学校适应困难指标总分', '人际关系困扰指标总分',\n",
    "               '学业压力指标总分', '就业压力指标总分', '恋爱困扰指标总分']\n",
    "data = pd.read_csv('student_data.csv', encoding='utf-8')\n",
    "data.drop(columns=columns, inplace=True)\n",
    "# data.head(3)"
   ],
   "metadata": {
    "collapsed": false,
    "pycharm": {
     "name": "#%%\n"
    }
   }
  },
  {
   "cell_type": "code",
   "execution_count": 9,
   "outputs": [
    {
     "data": {
      "text/plain": "0    106\n1     72\nName: 可能问题, dtype: int64"
     },
     "execution_count": 9,
     "metadata": {},
     "output_type": "execute_result"
    }
   ],
   "source": [
    "data.loc[data['可能问题'] != 0, '可能问题'] = 1\n",
    "data['可能问题'].value_counts()"
   ],
   "metadata": {
    "collapsed": false,
    "pycharm": {
     "name": "#%%\n"
    }
   }
  },
  {
   "cell_type": "code",
   "execution_count": 10,
   "outputs": [],
   "source": [
    "train_df, test_df = train_test_split(data, test_size=0.2, random_state=8)"
   ],
   "metadata": {
    "collapsed": false,
    "pycharm": {
     "name": "#%%\n"
    }
   }
  },
  {
   "cell_type": "code",
   "execution_count": 11,
   "outputs": [
    {
     "data": {
      "text/plain": "0    84\n1    58\nName: 可能问题, dtype: int64"
     },
     "execution_count": 11,
     "metadata": {},
     "output_type": "execute_result"
    }
   ],
   "source": [
    "train_df['可能问题'].value_counts()"
   ],
   "metadata": {
    "collapsed": false,
    "pycharm": {
     "name": "#%%\n"
    }
   }
  },
  {
   "cell_type": "code",
   "execution_count": 12,
   "outputs": [],
   "source": [
    "# Create Function Transformer to use Feature Union\n",
    "def get_numeric_data(x):\n",
    "    return np.array(x.iloc[:, 0:-2])\n",
    "\n",
    "\n",
    "def get_text_data(x):\n",
    "    return x['text'].tolist()"
   ],
   "metadata": {
    "collapsed": false,
    "pycharm": {
     "name": "#%%\n"
    }
   }
  },
  {
   "cell_type": "code",
   "execution_count": 13,
   "outputs": [],
   "source": [
    "def metadata_svm_fu():\n",
    "\n",
    "    y_train = train_df['可能问题'].tolist()\n",
    "    y_test = test_df['可能问题'].tolist()\n",
    "\n",
    "    transformer_numeric = FunctionTransformer(get_numeric_data)\n",
    "    transformer_text = FunctionTransformer(get_text_data)\n",
    "\n",
    "    # Create a pipeline to concatenate Tfidf Vector and Numeric data\n",
    "    # Use SVM as classifier\n",
    "    pipeline = Pipeline([\n",
    "        ('metadata', FeatureUnion([\n",
    "            ('numeric_feature', Pipeline([\n",
    "                ('selector', transformer_numeric)\n",
    "            ])),\n",
    "            ('text_features', Pipeline([\n",
    "                ('selector', transformer_text),\n",
    "                ('vec', TfidfVectorizer())\n",
    "            ]))\n",
    "        ])),\n",
    "        ('clf', SGDClassifier())\n",
    "    ])\n",
    "\n",
    "    # Grid Search Parameters for SGDClassifer\n",
    "    parameters = {\n",
    "        'clf__alpha': (1e-4, 1e-6),\n",
    "        'metadata__text_features__vec__ngram_range': [(1, 2), (1, 3)],\n",
    "        'metadata__text_features__vec__use_idf': [True, False]\n",
    "    }\n",
    "\n",
    "    # Training config\n",
    "    kfold = StratifiedKFold(n_splits=5)\n",
    "    scoring = {'Accuracy': 'accuracy', 'F1': 'f1_macro'}\n",
    "    refit = 'F1'\n",
    "\n",
    "    gs_clf = GridSearchCV(pipeline, parameters, n_jobs=1, verbose=1, cv=kfold, scoring=scoring, refit=refit)\n",
    "    gs_clf.fit(train_df, y_train)\n",
    "\n",
    "    predicted = gs_clf.predict(test_df)\n",
    "\n",
    "    print(metrics.classification_report(y_test, predicted))\n",
    "    print(metrics.confusion_matrix(y_test, predicted))\n",
    "    print(\"precision: \", str(metrics.precision_score(y_test, predicted, average='macro')))\n",
    "    print(\"accuracy: \", str(metrics.accuracy_score(y_test, predicted)))\n",
    "    print(\"F1 score: \", str(metrics.f1_score(y_test, predicted, average='macro')))\n",
    "    print(\"recall: \", str(metrics.recall_score(y_test, predicted, average='macro')))"
   ],
   "metadata": {
    "collapsed": false,
    "pycharm": {
     "name": "#%%\n"
    }
   }
  },
  {
   "cell_type": "code",
   "execution_count": 14,
   "outputs": [
    {
     "name": "stdout",
     "output_type": "stream",
     "text": [
      "Fitting 5 folds for each of 8 candidates, totalling 40 fits\n",
      "              precision    recall  f1-score   support\n",
      "\n",
      "           0       0.79      0.68      0.73        22\n",
      "           1       0.59      0.71      0.65        14\n",
      "\n",
      "    accuracy                           0.69        36\n",
      "   macro avg       0.69      0.70      0.69        36\n",
      "weighted avg       0.71      0.69      0.70        36\n",
      "\n",
      "[[15  7]\n",
      " [ 4 10]]\n",
      "precision:  0.6888544891640866\n",
      "accuracy:  0.6944444444444444\n",
      "F1 score:  0.6884343036978757\n",
      "recall:  0.698051948051948\n"
     ]
    }
   ],
   "source": [
    "metadata_svm_fu()"
   ],
   "metadata": {
    "collapsed": false,
    "pycharm": {
     "name": "#%%\n"
    }
   }
  },
  {
   "cell_type": "code",
   "execution_count": 15,
   "outputs": [],
   "source": [
    "def standard_svm():\n",
    "\n",
    "    X_train = train_df['text'].tolist()\n",
    "    X_test = test_df['text'].tolist()\n",
    "    y_train = train_df['可能问题'].tolist()\n",
    "    y_test = test_df['可能问题'].tolist()\n",
    "\n",
    "    pipeline = Pipeline([('vect', CountVectorizer()),\n",
    "                         ('tfidf', TfidfTransformer()),\n",
    "                         ('clf', SGDClassifier()),\n",
    "                         ])\n",
    "    parameters = {\n",
    "        'vect__ngram_range': [(1, 2), (1, 3)],\n",
    "        'clf__alpha': (1e-4, 1e-6)\n",
    "    }\n",
    "\n",
    "    # Training config\n",
    "    kfold = StratifiedKFold(n_splits=5)\n",
    "    scoring = {'Accuracy': 'accuracy', 'F1': 'f1_macro'}\n",
    "    refit = 'F1'\n",
    "\n",
    "    gs_clf = GridSearchCV(pipeline, parameters, n_jobs=1, verbose=1, cv=kfold, scoring=scoring, refit=refit)\n",
    "    gs_clf.fit(X_train, y_train)\n",
    "\n",
    "    predicted = gs_clf.predict(X_test)\n",
    "\n",
    "    print(metrics.classification_report(y_test, predicted))\n",
    "    print(metrics.confusion_matrix(y_test, predicted))\n",
    "    print(\"precision: \", str(metrics.precision_score(y_test, predicted, average='macro')))\n",
    "    print(\"accuracy: \", str(metrics.accuracy_score(y_test, predicted)))\n",
    "    print(\"F1 score: \", str(metrics.f1_score(y_test, predicted, average='macro')))\n",
    "    print(\"recall: \", str(metrics.recall_score(y_test, predicted, average='macro')))"
   ],
   "metadata": {
    "collapsed": false,
    "pycharm": {
     "name": "#%%\n"
    }
   }
  },
  {
   "cell_type": "code",
   "execution_count": 16,
   "outputs": [
    {
     "name": "stdout",
     "output_type": "stream",
     "text": [
      "Fitting 5 folds for each of 4 candidates, totalling 20 fits\n",
      "              precision    recall  f1-score   support\n",
      "\n",
      "           0       0.63      0.86      0.73        22\n",
      "           1       0.50      0.21      0.30        14\n",
      "\n",
      "    accuracy                           0.61        36\n",
      "   macro avg       0.57      0.54      0.52        36\n",
      "weighted avg       0.58      0.61      0.56        36\n",
      "\n",
      "[[19  3]\n",
      " [11  3]]\n",
      "precision:  0.5666666666666667\n",
      "accuracy:  0.6111111111111112\n",
      "F1 score:  0.5153846153846153\n",
      "recall:  0.538961038961039\n"
     ]
    }
   ],
   "source": [
    "standard_svm()"
   ],
   "metadata": {
    "collapsed": false,
    "pycharm": {
     "name": "#%%\n"
    }
   }
  }
 ],
 "metadata": {
  "kernelspec": {
   "display_name": "Python 3",
   "language": "python",
   "name": "python3"
  },
  "language_info": {
   "codemirror_mode": {
    "name": "ipython",
    "version": 2
   },
   "file_extension": ".py",
   "mimetype": "text/x-python",
   "name": "python",
   "nbconvert_exporter": "python",
   "pygments_lexer": "ipython2",
   "version": "2.7.6"
  }
 },
 "nbformat": 4,
 "nbformat_minor": 0
}